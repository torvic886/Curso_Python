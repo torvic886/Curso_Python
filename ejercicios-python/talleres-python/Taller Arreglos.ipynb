{
 "cells": [
  {
   "cell_type": "markdown",
   "id": "57778262-5f03-4549-8caa-c9ed20390d16",
   "metadata": {},
   "source": [
    "# Taller de arreglos\n",
    "## Docente: Germán Alberto Angarita Henao"
   ]
  },
  {
   "cell_type": "markdown",
   "id": "0f7027ba-b182-4414-88d8-d988cc48d911",
   "metadata": {},
   "source": [
    "### 1. Dado el arreglo [1,2,3,4,5,6]:"
   ]
  },
  {
   "cell_type": "markdown",
   "id": "7fbaa031-48c2-4de1-a0b8-3156a673f051",
   "metadata": {},
   "source": [
    "#### a) Iterar por todos los elementos dentro del arreglo utilizando while y mostrarlos en pantalla."
   ]
  },
  {
   "cell_type": "code",
   "execution_count": 12,
   "id": "6f198c8a-2db9-4e2a-95cf-25437cc85bbd",
   "metadata": {
    "scrolled": true
   },
   "outputs": [
    {
     "name": "stdout",
     "output_type": "stream",
     "text": [
      "1\n",
      "2\n",
      "3\n",
      "4\n",
      "5\n",
      "6\n"
     ]
    }
   ],
   "source": [
    "# Definir el arreglo\n",
    "numeros = [1, 2, 3, 4, 5, 6]\n",
    "\n",
    "# Inicializar el índice\n",
    "i = 0\n",
    "\n",
    "# Usar while para recorrer el arreglo\n",
    "while i < len(numeros):\n",
    "    print(numeros[i])\n",
    "    i += 1"
   ]
  },
  {
   "cell_type": "markdown",
   "id": "9f415269-05d6-4de8-b851-660abc1214e6",
   "metadata": {},
   "source": [
    "#### b) Iterar por todos los elementos dentro del arreglo utilizando el ciclo “for” y mostrarlos en pantalla."
   ]
  },
  {
   "cell_type": "code",
   "execution_count": 20,
   "id": "aa5f6944-e8a1-4667-9dd7-989ad951867c",
   "metadata": {},
   "outputs": [
    {
     "name": "stdout",
     "output_type": "stream",
     "text": [
      "1\n",
      "2\n",
      "3\n",
      "4\n",
      "5\n",
      "6\n"
     ]
    }
   ],
   "source": [
    "# Definir el arreglo\n",
    "numeros = [1, 2, 3, 4, 5, 6]\n",
    "\n",
    "# Usar for para recorrer el arreglo\n",
    "for i in numeros:\n",
    "    print(i)"
   ]
  },
  {
   "cell_type": "markdown",
   "id": "f9f2a5bb-18ab-4885-9c8f-48a427447141",
   "metadata": {},
   "source": [
    "#### c) Crear una copia del arreglo usando el ciclo “for” pero con todos los elementos incrementados en 1."
   ]
  },
  {
   "cell_type": "code",
   "execution_count": 29,
   "id": "01e8d839-fb76-480d-a889-9b44a469a950",
   "metadata": {
    "scrolled": true
   },
   "outputs": [
    {
     "name": "stdout",
     "output_type": "stream",
     "text": [
      "[1, 2, 3, 4, 5, 6]\n",
      "[2, 3, 4, 5, 6, 7]\n"
     ]
    }
   ],
   "source": [
    "# Definir el arreglo\n",
    "numeros = [1, 2, 3, 4, 5, 6]\n",
    "\n",
    "#Definir el arreglo que se va a incrementar\n",
    "copia_numeros = []\n",
    "\n",
    "# Usar for para recorrer el arreglo\n",
    "for i in numeros:\n",
    "    copia_numeros.append(i+1)\n",
    "\n",
    "print(numeros)\n",
    "print(copia_numeros)\n"
   ]
  },
  {
   "cell_type": "markdown",
   "id": "50da7404-a1d1-4c37-9bda-49a28844babe",
   "metadata": {},
   "source": [
    "#### d) Calcular el promedio de todos los elementos del arreglo"
   ]
  },
  {
   "cell_type": "code",
   "execution_count": 39,
   "id": "7737116d-797a-439f-b067-4f00671965c7",
   "metadata": {},
   "outputs": [
    {
     "name": "stdout",
     "output_type": "stream",
     "text": [
      "3.5\n"
     ]
    }
   ],
   "source": [
    "# Definir el arreglo\n",
    "numeros = [1, 2, 3, 4, 5, 6]\n",
    "\n",
    "suma = sum(numeros)\n",
    "total_cantidad = len(numeros)\n",
    "promedio = suma / total_cantidad\n",
    "\n",
    "print(promedio)"
   ]
  },
  {
   "cell_type": "markdown",
   "id": "fb51646f-2f3f-41b5-8e98-cdd66a9ffff3",
   "metadata": {},
   "source": [
    "### 2. Dado el arreglo de cadenas de ADN [“AATGAAC”, “GTTTTTC”, “GGTAAA”, “CCCCATGGG”]\n",
    "#### cree una función que reciba como argumento tal arreglo y muestre las cadenas de una sola base\n",
    "#### (cadenas formadas solo de A, o solo de T, o solo de C o solo de G) que se pueden formar entre todos los\n",
    "#### elementos del arreglo."
   ]
  },
  {
   "cell_type": "code",
   "execution_count": 47,
   "id": "a26b3161-44df-46e4-841c-883010a7c006",
   "metadata": {},
   "outputs": [
    {
     "name": "stdout",
     "output_type": "stream",
     "text": [
      "{'A': 'AAAAAAAA', 'T': 'TTTTTTTT', 'C': 'CCCCCC', 'G': 'GGGGGGG'}\n"
     ]
    }
   ],
   "source": [
    "def cadenas_de_una_sola_base(secuencias):\n",
    "    # Diccionario para contar la cantidad de cada base\n",
    "    conteo_bases = {\"A\": 0, \"T\": 0, \"C\": 0, \"G\": 0}\n",
    "\n",
    "    # Recorremos cada cadena en el arreglo y contamos las bases\n",
    "    for secuencia in secuencias:\n",
    "        for letra in secuencia:\n",
    "            if letra in conteo_bases:\n",
    "                conteo_bases[letra] += 1\n",
    "\n",
    "    # Construimos las cadenas de una sola base\n",
    "    cadenas_puras = {base: base * cantidad for base, cantidad in conteo_bases.items()}\n",
    "\n",
    "    return cadenas_puras\n",
    "\n",
    "# Lista de ADN dada\n",
    "secuencias_adn = [\"AATGAAC\", \"GTTTTTC\", \"GGTAAA\", \"CCCCATGGG\"]\n",
    "\n",
    "# Llamamos la función y mostramos el resultado\n",
    "resultado = cadenas_de_una_sola_base(secuencias_adn)\n",
    "print(resultado)\n"
   ]
  }
 ],
 "metadata": {
  "kernelspec": {
   "display_name": "Python [conda env:base] *",
   "language": "python",
   "name": "conda-base-py"
  },
  "language_info": {
   "codemirror_mode": {
    "name": "ipython",
    "version": 3
   },
   "file_extension": ".py",
   "mimetype": "text/x-python",
   "name": "python",
   "nbconvert_exporter": "python",
   "pygments_lexer": "ipython3",
   "version": "3.12.7"
  }
 },
 "nbformat": 4,
 "nbformat_minor": 5
}
